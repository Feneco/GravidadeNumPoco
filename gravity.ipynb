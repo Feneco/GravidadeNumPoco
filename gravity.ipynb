{
 "cells": [
  {
   "cell_type": "code",
   "execution_count": 1,
   "metadata": {},
   "outputs": [
    {
     "name": "stdout",
     "output_type": "stream",
     "text": [
      "Populating the interactive namespace from numpy and matplotlib\n"
     ]
    }
   ],
   "source": [
    "%pylab inline"
   ]
  },
  {
   "cell_type": "markdown",
   "metadata": {},
   "source": [
    "# Tempo de queda para dentro de um poço que atravessa a terra "
   ]
  },
  {
   "cell_type": "markdown",
   "metadata": {},
   "source": [
    "## Definição da força de dentro do poço a uma distância $r$"
   ]
  },
  {
   "cell_type": "markdown",
   "metadata": {},
   "source": [
    "A força da gravidade segundo newton, é definida como:\n",
    "\n",
    "$${F_g}=\\frac{GM_tm}{r^2}\\tag{1}$$"
   ]
  },
  {
   "cell_type": "markdown",
   "metadata": {},
   "source": [
    "Onde $r$ é a distância do centro da terra, $Mt$ é massa da terra, $m$ a sua massa e $G$ é a constante gravitacional padrão.\n",
    "\n",
    "Cabe notar que usando essa notação você teria uma forca de gravidade infinita no centro de gravidade de todo objeto. Como você deve saber, uma gravidade \"infinita\" é algo que só buracos negros têm, e a terra, uma bola de boliche, você, eu e sla mais quem, não tem um buraco negro no seu centro, logo a força da gravidade deve funcionar de forma diferente dentro dos corpos."
   ]
  },
  {
   "cell_type": "markdown",
   "metadata": {},
   "source": [
    "Quando você cava um buraco, a força da gravidade é dessa forma:"
   ]
  },
  {
   "cell_type": "markdown",
   "metadata": {},
   "source": [
    "<img src=\"image1.jpg\" alt=\"Drawing\" style=\"width: 200px;\"/>"
   ]
  },
  {
   "cell_type": "markdown",
   "metadata": {},
   "source": [
    "$$F_g'=\\frac{GM_t'm}{r^2} \\tag{2}$$\n",
    "\n",
    "Sendo $M_t'$ a massa da casca ao seus pés."
   ]
  },
  {
   "cell_type": "markdown",
   "metadata": {},
   "source": [
    "Se você imaginar que quando você está no buraco, há uma esfera em baixo de você nos seus pés, e uma casca esférica acima. É de se imaginar de que há gravidade puxando para baixo, em direção da esfera como toda boa gravidade, e uma gravidade puxando para cima em direção da casca. \n",
    "\n",
    "Mas a força da gravidade na casca não aponta apenas para cima, ela aponta para todas os pontos, ou pequenas caixas e suas massas, que montam a casca, assim como a força na esfera ao seus pés é a soma de todas as pequenas forças das pequenas partes que fazem a esfera. A gravidade da casca se anula após a soma de todas as forças gravitacionais infinitesimais da casca, ao passo de que a soma das forças de gravidade da esfera ao seus pés, aponta para seu centro.\n",
    "\n",
    "Então a o efeito da gravidade da casca é desconsiderada.\n",
    "\n",
    "Quando você chegar no centro da  terra, significa que a gravidade é direcionada em todas as direções, então após você somar forças em todas as direções, o total da $F_g$ deve ser zero."
   ]
  },
  {
   "cell_type": "markdown",
   "metadata": {},
   "source": [
    "A densidade vezes o volume de uma esfera regular de raio $r'$ é:\n",
    "\n",
    "$$M_t'=\\rho \\frac{4 \\pi r'^3}{3}$$"
   ]
  },
  {
   "cell_type": "markdown",
   "metadata": {},
   "source": [
    "A densidade da terra nesse exemplo pode ser considerada constante em todo seu volume. (na vida real, sua densidade varia com a profundidade), então a densidade $\\rho$ é\n",
    "\n",
    "$$\n",
    "\\begin{split}\n",
    "\\rho & = \\frac{M_t}{V_t} \\\\\n",
    "\\rho & = \\frac{3 M_t}{4\\pi R_t^3} \\\\ \n",
    "\\end{split}\n",
    "$$\n",
    "\n",
    "onde $V_t$ é o volume da terra. $V_t = \\frac{4}{3}\\pi R_t^3$\n",
    "\n",
    "$$\n",
    "\\begin{split}\n",
    "M_t' & =\\rho \\frac{4 \\pi r^3}{3}\\\\\n",
    "M_t' & = M_t \\frac{r^3}{R_t^3}\n",
    "\\end{split}\n",
    "$$"
   ]
  },
  {
   "cell_type": "markdown",
   "metadata": {},
   "source": [
    "Substituindo $M_t'$ na equação (2):\n",
    "\n",
    "$$F_g' = \\frac{G M_t m r}{R_t^3}$$\n",
    "\n",
    "Vamos considerar $G M_t = \\mu$. \n",
    "\n",
    "$$F_g' = \\frac{\\mu m r}{R_t^3} \\tag{3}$$\n",
    "\n",
    "Essa é a força da gravidade para dentro do corpo celeste observado.\n",
    "\n",
    "Vamos plotar um grafico para  a aceleração da gravidade em um corpo"
   ]
  },
  {
   "cell_type": "code",
   "execution_count": 2,
   "metadata": {},
   "outputs": [
    {
     "data": {
      "image/png": "[encoded data removed]",
      "text/plain": [
       "<matplotlib.figure.Figure at 0x7fd8cba47198>"
      ]
     },
     "metadata": {},
     "output_type": "display_data"
    }
   ],
   "source": [
    "G = 6.67408e-11  # Constante gravitacional padrão\n",
    "Mt = 5.972e24  # kilos\n",
    "Rt = 6378.1e3  # metros\n",
    "u = G * Mt\n",
    "\n",
    "def Fg_internal(r):\n",
    "    return u * r / Rt ** 3\n",
    "\n",
    "def Fg_external(h):\n",
    "    return u / h ** 2\n",
    "\n",
    "r = np.linspace(0, Rt, 1000)\n",
    "h = np.linspace(Rt, Rt*3, 1000)\n",
    "\n",
    "plt.plot(r, Fg_internal(r), label='interno')\n",
    "plt.plot(h, Fg_external(h), label='externo')\n",
    "plt.ylabel('Aceleração da gravidade \\n m/s^2')\n",
    "plt.xlabel('Distância do centro da terra \\n m')\n",
    "plt.annotate('superficie da terra',\n",
    "             xy=(Rt, Fg_internal(Rt)),\n",
    "             xytext=(Rt, 4),\n",
    "             arrowprops=dict(facecolor='blue', shrink=0.05))\n",
    "plt.legend(bbox_to_anchor=(1.05, 1), loc=2, borderaxespad=0.)\n",
    "plt.show()"
   ]
  },
  {
   "cell_type": "markdown",
   "metadata": {},
   "source": [
    "Perceba como a aceleração diminui conforme entramos para dentro da terra"
   ]
  },
  {
   "cell_type": "markdown",
   "metadata": {},
   "source": [
    "## Equação diferencial do movimento "
   ]
  },
  {
   "cell_type": "markdown",
   "metadata": {},
   "source": [
    "Em muitos sentidos, após você cair dentro de poço, você passa pelo centro e chega do outro lado, e então cai de novo e chega aonde você começou.\n",
    "\n",
    "A força (3) é semelhante com a força elástica, então estamos esperando um movimento oscilatório.\n",
    "Cabe notar que nesse momento, essa força é negativa, pois ela aponta para o centro."
   ]
  },
  {
   "cell_type": "markdown",
   "metadata": {},
   "source": [
    "<img src=\"image2.jpg\" alt=\"Drawing\" style=\"width: 200px;\"/>"
   ]
  },
  {
   "cell_type": "markdown",
   "metadata": {},
   "source": [
    "A força é $F=m*a$. Se derivarmos r uma vez, temos $\\dot{r}$, a velodicade. Derivando de novo teremos nossa aceleração $\\ddot{r}$.\n",
    "\n",
    "$$\n",
    "\\begin{split}\n",
    "m*\\ddot{r} & = -\\frac{\\mu m r}{R_t^3}\\\\\n",
    "m*\\ddot{r} + \\frac{\\mu m r}{R_t^3} & = 0 \\\\\n",
    "\\ddot{r} + \\frac{\\mu r}{R_t^3} & = 0\n",
    "\\end{split}\n",
    "$$"
   ]
  },
  {
   "cell_type": "markdown",
   "metadata": {},
   "source": [
    "Essa equação pode ser solucionada como EDO de segundo grau:\n",
    "\n",
    "$$\n",
    "\\begin{split}\n",
    "\\lambda & + \\frac{\\mu}{R_t^3} = 0\\\\\n",
    "\\lambda & = 0 \\pm i \\sqrt{\\frac{\\mu}{R_t^3}}\n",
    "\\end{split}\n",
    "$$\n",
    "$$\n",
    "\\begin{split}\n",
    "& \\alpha = 0 & \\beta = \\sqrt{\\frac{\\mu}{R_t^3}}\\\\\n",
    "r(t) = & C_1 \\cos{\\beta t} + C_2 \\sin{\\beta t} \n",
    "\\end{split}\n",
    "$$"
   ]
  },
  {
   "cell_type": "markdown",
   "metadata": {},
   "source": [
    "A solução do problema inicial é:\n",
    "\n",
    "$$\n",
    "\\begin{split}\n",
    "r(0) &= Rt\\\\\n",
    "r(0) &=  C_1 \\cos{\\beta 0} + C_2 \\sin{\\beta 0}\\\\\n",
    "Rt & =  C_1\n",
    "\\end{split}\n",
    "$$\n",
    "\n",
    "$$\n",
    "\\begin{split}\n",
    "\\dot{r}(0) &= 0\\\\\n",
    "\\dot{r}(0) &= -\\beta C_1 \\sin{\\beta 0} + \\beta C_2 \\cos{\\beta 0}\\\\\n",
    "0 &= \\beta C_2 \\cos{0}\\\\\n",
    "0 &= C_2\n",
    "\\end{split}\n",
    "$$"
   ]
  },
  {
   "cell_type": "markdown",
   "metadata": {},
   "source": [
    "Então a equação do movimento em relação ao tempo é :\n",
    "\n",
    "$$\n",
    "r(t) = R_t \\cos{\\sqrt{\\frac{\\mu}{R_t^3}} t} \\tag{4}\n",
    "$$"
   ]
  },
  {
   "cell_type": "markdown",
   "metadata": {},
   "source": [
    "Para descobrirmos o periodo é apenas dividir a parte que multiplica $t$ por $ 2 \\pi $\n",
    "\n",
    "$$\n",
    "\\Pi = \\frac{2 \\pi}{\\sqrt{\\frac{\\mu}{R_t^3}}}\n",
    "$$"
   ]
  },
  {
   "cell_type": "markdown",
   "metadata": {},
   "source": [
    "O tempo em segundos do período é:"
   ]
  },
  {
   "cell_type": "code",
   "execution_count": 3,
   "metadata": {},
   "outputs": [
    {
     "name": "stdout",
     "output_type": "stream",
     "text": [
      "5069.4547507 segundos\n"
     ]
    }
   ],
   "source": [
    "P = (2 * pi) / (np.sqrt((u)/(Rt**3)))\n",
    "\n",
    "print(P, \"segundos\")"
   ]
  },
  {
   "cell_type": "markdown",
   "metadata": {},
   "source": [
    "O tempo do meio período para chegar do outro lado é:"
   ]
  },
  {
   "cell_type": "code",
   "execution_count": 4,
   "metadata": {},
   "outputs": [
    {
     "name": "stdout",
     "output_type": "stream",
     "text": [
      "2534.72737535 segundos\n",
      "ou\n",
      "42.2454562559 minutos\n"
     ]
    }
   ],
   "source": [
    "print(P / 2, \"segundos\") \n",
    "print(\"ou\")\n",
    "print((P/2)/60, \"minutos\")"
   ]
  },
  {
   "cell_type": "markdown",
   "metadata": {},
   "source": [
    "## Conclusão:\n",
    "Se você cair no poço, você chega do outro lado em 42 minutos"
   ]
  }
 ],
 "metadata": {
  "kernelspec": {
   "display_name": "Python 3",
   "language": "python",
   "name": "python3"
  },
  "language_info": {
   "codemirror_mode": {
    "name": "ipython",
    "version": 3
   },
   "file_extension": ".py",
   "mimetype": "text/x-python",
   "name": "python",
   "nbconvert_exporter": "python",
   "pygments_lexer": "ipython3",
   "version": "3.6.1"
  }
 },
 "nbformat": 4,
 "nbformat_minor": 2
}
